{
 "cells": [
  {
   "cell_type": "code",
   "execution_count": 1,
   "metadata": {},
   "outputs": [],
   "source": [
    "from network import Network\n",
    "import numpy as np\n",
    "import tensorflow as tf\n",
    "import matplotlib.pyplot as plt"
   ]
  },
  {
   "cell_type": "code",
   "execution_count": 2,
   "metadata": {},
   "outputs": [],
   "source": [
    "# Importing and splitting data\n",
    "fashion_mnist = tf.keras.datasets.fashion_mnist\n",
    "(X_train_full, y_train_full), (X_test, y_test) = fashion_mnist.load_data()\n",
    "# X_valid, X_train = X_train_full[:5000], X_train_full[5000:]\n",
    "# y_valid, y_train = y_train_full[:5000], y_train_full[5000:]\n",
    "X_valid, X_train = X_train_full[:50], X_train_full[50:150]\n",
    "y_valid, y_train = y_train_full[:50], y_train_full[50:150]\n",
    "\n",
    "# Normalization\n",
    "X_train, X_test, X_valid = X_train / 255, X_test / 255, X_valid / 255\n",
    "\n",
    "# Manual flattening for my custom ann\n",
    "X_train_flattened = X_train.reshape(X_train.shape[0], 784, 1)\n",
    "X_test_flattened = X_test.reshape(X_test.shape[0], 784, 1)\n",
    "X_valid_flattened = X_valid.reshape(X_valid.shape[0], 784, 1)"
   ]
  },
  {
   "cell_type": "code",
   "execution_count": 3,
   "metadata": {},
   "outputs": [],
   "source": [
    "y_train_encoded = np.zeros((y_train.size, y_train.max()+1))\n",
    "y_train_encoded[np.arange(y_train.size), y_train] = 1\n",
    "# y_train_encoded = y_train_encoded.reshape(y_train.shape[0], 10, 1)\n",
    "y_test_encoded = np.zeros((y_test.size, y_test.max()+1))\n",
    "y_test_encoded[np.arange(y_test.size), y_test] = 1\n",
    "y_valid_encoded = np.zeros((y_valid.size, y_valid.max()+1))\n",
    "y_valid_encoded[np.arange(y_valid.size), y_valid] = 1"
   ]
  },
  {
   "cell_type": "code",
   "execution_count": 4,
   "metadata": {},
   "outputs": [
    {
     "name": "stdout",
     "output_type": "stream",
     "text": [
      "Epoch 0 -> Training loss: 1.667143262660264, Training accuracy: 0.1, Validation loss: 1.685926857407676, Validation accuracy: 0.12\n",
      "Epoch 1 -> Training loss: 1.1411240520821806, Training accuracy: 0.12, Validation loss: 1.168558667491048, Validation accuracy: 0.12\n"
     ]
    }
   ],
   "source": [
    "net = Network((784, 32, 16, 10))\n",
    "net.stochastic_gradient_descent((None, \"sigmoid\", \"sigmoid\", \"sigmoid\"), X_train_flattened, y_train_encoded, 2, 10, 0.5, validation_data=(X_valid_flattened, y_valid_encoded))"
   ]
  },
  {
   "cell_type": "code",
   "execution_count": 5,
   "metadata": {},
   "outputs": [
    {
     "name": "stdout",
     "output_type": "stream",
     "text": [
      "Test loss: 1.1769311545932544, Test accuracy: 0.1106\n"
     ]
    }
   ],
   "source": [
    "net.evaluate(X_test_flattened, y_test_encoded)"
   ]
  },
  {
   "cell_type": "code",
   "execution_count": 6,
   "metadata": {},
   "outputs": [
    {
     "name": "stdout",
     "output_type": "stream",
     "text": [
      "[0.12, 0.12]\n"
     ]
    },
    {
     "data": {
      "image/png": "[encoded data removed]",
      "text/plain": [
       "<Figure size 640x480 with 1 Axes>"
      ]
     },
     "metadata": {},
     "output_type": "display_data"
    }
   ],
   "source": [
    "plt.plot(net.history[\"accuracy\"])\n",
    "plt.plot(net.history[\"loss\"])\n",
    "plt.plot(net.history[\"val_accuracy\"])\n",
    "plt.plot(net.history[\"val_loss\"])\n",
    "print(net.history[\"val_accuracy\"])"
   ]
  },
  {
   "cell_type": "code",
   "execution_count": 7,
   "metadata": {},
   "outputs": [
    {
     "name": "stdout",
     "output_type": "stream",
     "text": [
      "[0.12, 0.12]\n"
     ]
    }
   ],
   "source": [
    "print(net.history[\"val_accuracy\"])"
   ]
  },
  {
   "cell_type": "code",
   "execution_count": 8,
   "metadata": {},
   "outputs": [
    {
     "name": "stdout",
     "output_type": "stream",
     "text": [
      "False\n"
     ]
    }
   ],
   "source": [
    "print(bool(None))"
   ]
  },
  {
   "cell_type": "code",
   "execution_count": null,
   "metadata": {},
   "outputs": [],
   "source": []
  }
 ],
 "metadata": {
  "kernelspec": {
   "display_name": "env",
   "language": "python",
   "name": "python3"
  },
  "language_info": {
   "codemirror_mode": {
    "name": "ipython",
    "version": 3
   },
   "file_extension": ".py",
   "mimetype": "text/x-python",
   "name": "python",
   "nbconvert_exporter": "python",
   "pygments_lexer": "ipython3",
   "version": "3.10.8"
  },
  "orig_nbformat": 4,
  "vscode": {
   "interpreter": {
    "hash": "2b75fdb366914f2330b33531c41757996b47d943add644e57da94ca605649401"
   }
  }
 },
 "nbformat": 4,
 "nbformat_minor": 2
}
