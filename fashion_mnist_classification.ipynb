{
 "cells": [
  {
   "cell_type": "code",
   "execution_count": 1,
   "metadata": {},
   "outputs": [],
   "source": [
    "from network import Network\n",
    "import numpy as np\n",
    "import tensorflow as tf\n",
    "import matplotlib.pyplot as plt"
   ]
  },
  {
   "cell_type": "code",
   "execution_count": 2,
   "metadata": {},
   "outputs": [],
   "source": [
    "fashion_mnist = tf.keras.datasets.fashion_mnist\n",
    "(X_train, y_train), (X_test, y_test) = fashion_mnist.load_data()"
   ]
  },
  {
   "cell_type": "code",
   "execution_count": 3,
   "metadata": {},
   "outputs": [],
   "source": [
    "X_train_normalized = X_train / 255\n",
    "X_train_flattened = X_train_normalized.reshape(X_train_normalized.shape[0], 784, 1)\n",
    "X_test_normalized = X_test / 255\n",
    "X_test_flattened = X_test_normalized.reshape(X_test_normalized.shape[0], 784, 1)"
   ]
  },
  {
   "cell_type": "code",
   "execution_count": 4,
   "metadata": {},
   "outputs": [],
   "source": [
    "y_train_encoded = np.zeros((y_train.size, y_train.max()+1))\n",
    "y_train_encoded[np.arange(y_train.size), y_train] = 1\n",
    "# y_train_encoded = y_train_encoded.reshape(y_train.shape[0], 10, 1)\n",
    "y_test_encoded = np.zeros((y_test.size, y_test.max()+1))\n",
    "y_test_encoded[np.arange(y_test.size), y_test] = 1"
   ]
  },
  {
   "cell_type": "code",
   "execution_count": 7,
   "metadata": {},
   "outputs": [
    {
     "name": "stdout",
     "output_type": "stream",
     "text": [
      "Epoch 0 -> Loss: 0.3153791393450152, Accuracy: 0.78435\n",
      "Epoch 1 -> Loss: 0.2823904887732297, Accuracy: 0.8060666666666667\n",
      "Epoch 2 -> Loss: 0.2656260636668548, Accuracy: 0.81745\n",
      "Epoch 3 -> Loss: 0.2327149458167684, Accuracy: 0.8428833333333333\n",
      "Epoch 4 -> Loss: 0.21760862178528978, Accuracy: 0.8532833333333333\n"
     ]
    }
   ],
   "source": [
    "net = Network((784, 32, 16, 10))\n",
    "net.stochastic_gradient_descent((None, \"sigmoid\", \"sigmoid\", \"sigmoid\"), X_train_flattened, y_train_encoded, 5, 10, 0.5)"
   ]
  },
  {
   "cell_type": "code",
   "execution_count": 8,
   "metadata": {},
   "outputs": [
    {
     "name": "stdout",
     "output_type": "stream",
     "text": [
      "Test accuracy: 0.8367\n"
     ]
    }
   ],
   "source": [
    "net.evaluate(X_test_flattened, y_test_encoded)"
   ]
  },
  {
   "cell_type": "code",
   "execution_count": 12,
   "metadata": {},
   "outputs": [
    {
     "data": {
      "text/plain": [
       "[<matplotlib.lines.Line2D at 0x20f82c73310>]"
      ]
     },
     "execution_count": 12,
     "metadata": {},
     "output_type": "execute_result"
    },
    {
     "data": {
      "image/png": "[encoded data removed]",
      "text/plain": [
       "<Figure size 640x480 with 1 Axes>"
      ]
     },
     "metadata": {},
     "output_type": "display_data"
    }
   ],
   "source": [
    "plt.plot(net.history[\"training accuracy\"])\n",
    "plt.plot(net.history[\"training loss\"])"
   ]
  }
 ],
 "metadata": {
  "kernelspec": {
   "display_name": "env",
   "language": "python",
   "name": "python3"
  },
  "language_info": {
   "codemirror_mode": {
    "name": "ipython",
    "version": 3
   },
   "file_extension": ".py",
   "mimetype": "text/x-python",
   "name": "python",
   "nbconvert_exporter": "python",
   "pygments_lexer": "ipython3",
   "version": "3.10.8"
  },
  "orig_nbformat": 4,
  "vscode": {
   "interpreter": {
    "hash": "2b75fdb366914f2330b33531c41757996b47d943add644e57da94ca605649401"
   }
  }
 },
 "nbformat": 4,
 "nbformat_minor": 2
}
